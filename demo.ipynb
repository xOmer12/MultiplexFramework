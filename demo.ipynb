{
 "cells": [
  {
   "cell_type": "code",
   "execution_count": 2,
   "id": "e4d21779",
   "metadata": {},
   "outputs": [
    {
     "name": "stderr",
     "output_type": "stream",
     "text": [
      "/lv_local/home/omer.y/.local/lib/python3.9/site-packages/tqdm/auto.py:21: TqdmWarning: IProgress not found. Please update jupyter and ipywidgets. See https://ipywidgets.readthedocs.io/en/stable/user_install.html\n",
      "  from .autonotebook import tqdm as notebook_tqdm\n"
     ]
    }
   ],
   "source": [
    "import torch\n",
    "import torch_geometric\n",
    "from torch_geometric.data import HeteroData\n",
    "from torch_geometric.datasets import HGBDataset\n",
    "import numpy as np\n"
   ]
  },
  {
   "cell_type": "code",
   "execution_count": 3,
   "id": "cde6715f",
   "metadata": {},
   "outputs": [],
   "source": [
    "dataset = HGBDataset(root='data/', name='acm', transform=None)\n",
    "data = dataset[0]"
   ]
  },
  {
   "cell_type": "code",
   "execution_count": 4,
   "id": "10aa2e3e",
   "metadata": {},
   "outputs": [
    {
     "data": {
      "text/plain": [
       "{'x': tensor([[1., 1., 1.,  ..., 0., 0., 0.],\n",
       "        [0., 1., 0.,  ..., 0., 0., 0.],\n",
       "        [0., 1., 0.,  ..., 0., 0., 0.],\n",
       "        ...,\n",
       "        [0., 0., 0.,  ..., 0., 0., 0.],\n",
       "        [0., 0., 0.,  ..., 0., 0., 0.],\n",
       "        [0., 0., 0.,  ..., 0., 0., 0.]]), 'y': tensor([2, 2, 2,  ..., 2, 2, 2]), 'train_mask': tensor([False,  True, False,  ..., False, False,  True]), 'test_mask': tensor([ True, False,  True,  ...,  True,  True, False])}"
      ]
     },
     "execution_count": 4,
     "metadata": {},
     "output_type": "execute_result"
    }
   ],
   "source": [
    "data['paper']"
   ]
  },
  {
   "cell_type": "code",
   "execution_count": 15,
   "id": "d000706f",
   "metadata": {},
   "outputs": [
    {
     "data": {
      "text/plain": [
       "{'paper': 1902, 'author': 1902, 'subject': 1902, 'term': 0}"
      ]
     },
     "execution_count": 15,
     "metadata": {},
     "output_type": "execute_result"
    }
   ],
   "source": [
    "data.num_features"
   ]
  },
  {
   "cell_type": "code",
   "execution_count": null,
   "id": "6b0ac560",
   "metadata": {},
   "outputs": [],
   "source": [
    "def create_global_node_ids(data: torch_geometric.data.Data):\n",
    "    \"\"\"\n",
    "    Create global node IDs for each node in the graph.\n",
    "    \"\"\"\n",
    "    num_nodes_dict = {ntype: data[ntype].num_nodes for ntype in data.node_types}\n",
    "    node_type_offsets = {}\n",
    "    offset = 0\n",
    "    for ntype in data.node_types:\n",
    "        node_type_offsets[ntype] = offset\n",
    "        offset += num_nodes_dict[ntype]\n",
    "\n",
    "def get_global_node_id(node_type, node_id, node_offsets):\n",
    "    \"\"\"\n",
    "    Get the global node ID for a given node type and local node ID.\n",
    "    \"\"\"\n",
    "    return node_offsets[node_type] + node_id\n",
    "\n",
    "def build_intra_edge_index(data: torch_geometric.data.Data, node_offsets: dict):\n",
    "    \"\"\"\n",
    "    Build intra-edge indices for each layer in the multiplex graph.\n",
    "    \"\"\"\n",
    "    intra_edge_indices = []\n",
    "    for layer_id, edge_type in enumerate(data.edge_types):\n",
    "        src_type, _, dst_type = edge_type\n",
    "        edge_index = data[edge_type].edge_index\n",
    "\n",
    "        src_global = get_global_node_id(src_type, edge_index[0], node_offsets)\n",
    "        dst_global = get_global_node_id(dst_type, edge_index[1], node_offsets)\n",
    "\n",
    "        src_layer = src_global + layer_id * data.num_nodes\n",
    "        dst_layer = dst_global + layer_id * data.num_nodes\n",
    "\n",
    "        intra_edge_indices.appned(torch.stack([src_layer, dst_layer], dim=0))\n",
    "        return intra_edge_indices\n",
    "\n",
    "def build_inter_edge_index(data: torch_geometric.data.Data):\n",
    "    \"\"\"\n",
    "    Build inter-edge indices for the multiplex graph.\n",
    "    \"\"\"\n",
    "    inter_src = []\n",
    "    inter_dst = []\n",
    "    for node_id in range(data.num_nodes):\n",
    "        for layer_id_1 in range(len(data.edge_types)):\n",
    "            for layer_id_2 in range(layer_id_1 + 1, len(data.edge_types)):\n",
    "                if layer_id_1 != layer_id_2:\n",
    "                    n1 = node_id + layer_id_1 * data.num_nodes\n",
    "                    n2 = node_id + layer_id_2 * data.num_nodes\n",
    "                    inter_src.extend([n1, n2])\n",
    "                    inter_dst.extend([n2, n1]) # bidirectional edges\n",
    "    inter_edge_index = torch.tensor([inter_src, inter_dst], dtype=torch.long)  \n",
    "    return inter_edge_index\n",
    "\n",
    "def get_node_features(data: torch_geometric.data.Data):\n",
    "    \"\"\"\n",
    "    Get node features for the multiplex graph based on original node features from heterogenous graph.\n",
    "    \"\"\"\n",
    "    feat_dims = data.num_features \n",
    "    node_feat_list = []\n",
    "    for node_type in data.node_types:\n",
    "        if feat_dims[node_type] == 0: # no features for this node type\n",
    "            num_nodes = data[node_type].num_nodes\n",
    "            x = torch.zeros((num_nodes, max(feat_dims.values())), dtype=torch.float)\n",
    "        else:\n",
    "            x = data[node_type].x # Assuming all node types with features have the same dimension\n",
    "        node_feat_list.append(x)\n",
    "\n",
    "    global_node_features = torch.cat(node_feat_list, dim=0) # obtain global node features\n",
    "    multiplex_node_features = global_node_features.repeat(len(data.edge_types), 1) # replicate features across layers\n",
    "    return multiplex_node_features\n",
    "\n",
    "def get_labels(data: torch_geometric.data.Data):\n",
    "    \"\"\"\n",
    "    Get labels and masks for the multiplex graph based on the original data.\n",
    "    \"\"\"\n",
    "    global_labels = []\n",
    "    for node_type in data.node_types:\n",
    "        if 'y' in data[node_type].keys():\n",
    "            labels = data[node_type].y\n",
    "        else:\n",
    "            labels = torch.zeros(data[node_type].num_nodes, dtype=torch.long)\n",
    "        global_labels.append(labels)\n",
    "    global_labels = torch.cat(global_labels, dim=0)\n",
    "    multiplex_labels = global_labels.repeat(len(data.edge_types)) # replicate labels across layers\n",
    "    return multiplex_labels\n",
    "\n",
    "def masks(data: torch_geometric.data.Data):\n",
    "    \"\"\"\n",
    "    Get masks for training, validation, and testing based on the original data.\n",
    "    \"\"\"\n",
    "    train_mask = []\n",
    "    val_mask = []\n",
    "    test_mask = []\n",
    "    for node_type in data.node_types:\n",
    "        if 'train_mask' in data[node_type].keys():\n",
    "            train_mask.append(data[node_type].train_mask)\n",
    "        else:\n",
    "            train_mask.append(torch.zeros(data[node_type].num_nodes, dtype=torch.bool))\n",
    "\n",
    "        if 'val_mask' in data[node_type].keys():\n",
    "            val_mask.append(data[node_type].val_mask)\n",
    "        else:\n",
    "            val_mask.append(torch.zeros(data[node_type].num_nodes, dtype=torch.bool))\n",
    "\n",
    "        if 'test_mask' in data[node_type].keys():\n",
    "            test_mask.append(data[node_type].test_mask)\n",
    "        else:\n",
    "            test_mask.append(torch.zeros(data[node_type].num_nodes, dtype=torch.bool))\n",
    "\n",
    "    multiplex_train_mask = train_mask.repeat(len(data.edge_types))\n",
    "    multiplex_val_mask = val_mask.repeat(len(data.edge_types))\n",
    "    multiplex_test_mask = test_mask.repeat(len(data.edge_types))\n",
    "\n",
    "    return multiplex_train_mask, multiplex_val_mask, multiplex_test_mask\n",
    "            \n",
    "\n",
    "def build_multiplex_graph(data: torch_geometric.data.Data) -> HeteroData:\n",
    "    \"\"\"\n",
    "    Build a multiplex graph from the heterogenous graph data.\n",
    "    \"\"\"\n",
    "    node_offsets = create_global_node_ids(data)\n",
    "    \n",
    "    intra_edge_index = build_intra_edge_index(data, node_offsets)\n",
    "    inter_edge_index = build_inter_edge_index(data)\n",
    "\n",
    "    multiplex_data = HeteroData()\n",
    "    multiplex_data['intra_layer'].edge_index = intra_edge_index\n",
    "    multiplex_data['inter_layer'].edge_index = inter_edge_index\n",
    "    multiplex_data.x = get_node_features(data)\n",
    "\n",
    "    return multiplex_data\n",
    "            "
   ]
  }
 ],
 "metadata": {
  "kernelspec": {
   "display_name": "pyg_env",
   "language": "python",
   "name": "python3"
  },
  "language_info": {
   "codemirror_mode": {
    "name": "ipython",
    "version": 3
   },
   "file_extension": ".py",
   "mimetype": "text/x-python",
   "name": "python",
   "nbconvert_exporter": "python",
   "pygments_lexer": "ipython3",
   "version": "3.9.21"
  }
 },
 "nbformat": 4,
 "nbformat_minor": 5
}
