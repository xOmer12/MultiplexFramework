{
 "cells": [
  {
   "cell_type": "code",
   "execution_count": 20,
   "id": "e4d21779",
   "metadata": {},
   "outputs": [],
   "source": [
    "import torch\n",
    "import torch_geometric\n",
    "from torch_geometric.data import HeteroData\n",
    "from torch_geometric.datasets import HGBDataset\n",
    "import numpy as np\n"
   ]
  },
  {
   "cell_type": "code",
   "execution_count": null,
   "id": "cde6715f",
   "metadata": {},
   "outputs": [
    {
     "name": "stderr",
     "output_type": "stream",
     "text": [
      "Downloading https://drive.usercontent.google.com/download?id=1xbJ4QE9pcDJOcALv7dYhHDCPITX2Iddz&confirm=t\n"
     ]
    },
    {
     "name": "stderr",
     "output_type": "stream",
     "text": [
      "Extracting data/acm/raw/data.zip\n",
      "Processing...\n",
      "Done!\n"
     ]
    }
   ],
   "source": [
    "dataset = HGBDataset(root='data/', name='acm')\n",
    "data = dataset[0]"
   ]
  },
  {
   "cell_type": "code",
   "execution_count": 22,
   "id": "8fe7f18b",
   "metadata": {},
   "outputs": [
    {
     "data": {
      "text/plain": [
       "HeteroData(\n",
       "  paper={\n",
       "    x=[3025, 1902],\n",
       "    y=[3025],\n",
       "    train_mask=[3025],\n",
       "    test_mask=[3025],\n",
       "  },\n",
       "  author={ x=[5959, 1902] },\n",
       "  subject={ x=[56, 1902] },\n",
       "  term={ num_nodes=1902 },\n",
       "  (paper, cite, paper)={ edge_index=[2, 5343] },\n",
       "  (paper, ref, paper)={ edge_index=[2, 5343] },\n",
       "  (paper, to, author)={ edge_index=[2, 9949] },\n",
       "  (author, to, paper)={ edge_index=[2, 9949] },\n",
       "  (paper, to, subject)={ edge_index=[2, 3025] },\n",
       "  (subject, to, paper)={ edge_index=[2, 3025] },\n",
       "  (paper, to, term)={ edge_index=[2, 255619] },\n",
       "  (term, to, paper)={ edge_index=[2, 255619] }\n",
       ")"
      ]
     },
     "execution_count": 22,
     "metadata": {},
     "output_type": "execute_result"
    }
   ],
   "source": [
    "data"
   ]
  },
  {
   "cell_type": "code",
   "execution_count": null,
   "id": "584a9180",
   "metadata": {},
   "outputs": [],
   "source": [
    "def create_multiplex_node_set(num_node_dict, node_types, edge_types):\n",
    "    \"\"\"\n",
    "    Create a multiplex node set from the given node type counts.\n",
    "    \n",
    "    Args:\n",
    "        num_node_dict (dict): A dictionary mapping node types to their counts.\n",
    "        node_types (list): A list of node types.\n",
    "        edge_types (list): A list of edge types.\n",
    "    \n",
    "    Returns:\n",
    "        A set of nodes for multiplex graph representation - each node splits into k nodes (where k is the number of edge types).\n",
    "    \"\"\"\n",
    "    pass\n",
    "        \n",
    "\n",
    "def create_multiplex_edge_layer(node_set, edge_type, edge_index):\n",
    "    pass\n",
    "\n",
    "def hetero_to_multiplex(hetero_data: HeteroData):\n",
    "    pass"
   ]
  }
 ],
 "metadata": {
  "kernelspec": {
   "display_name": "pyg_env",
   "language": "python",
   "name": "python3"
  },
  "language_info": {
   "codemirror_mode": {
    "name": "ipython",
    "version": 3
   },
   "file_extension": ".py",
   "mimetype": "text/x-python",
   "name": "python",
   "nbconvert_exporter": "python",
   "pygments_lexer": "ipython3",
   "version": "3.9.21"
  }
 },
 "nbformat": 4,
 "nbformat_minor": 5
}
